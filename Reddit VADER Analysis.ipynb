{
 "cells": [
  {
   "cell_type": "code",
   "execution_count": 1,
   "metadata": {},
   "outputs": [
    {
     "name": "stdout",
     "output_type": "stream",
     "text": [
      "Soft-Ad-6632\n"
     ]
    }
   ],
   "source": [
    "import nltk\n",
    "import praw\n",
    "from nltk.sentiment.vader import SentimentIntensityAnalyzer\n",
    "from nltk.tokenize import TweetTokenizer\n",
    "from nltk.corpus import stopwords\n",
    "\n",
    "import regex as re\n",
    "from praw.models import MoreComments\n",
    "from collections import Counter\n",
    "from nltk.stem import WordNetLemmatizer\n",
    "\n",
    "reddit = praw.Reddit(client_id=\"j45kzjbwzT3taMKalRM7sQ\",\n",
    "                     client_secret=\"NMNfk12VgF7r1ydhaXXmWF1aeTgWBw\",\n",
    "                     user_agent=\"which one of you is being a dick\",\n",
    "                     username='Soft-Ad-6632',\n",
    "                     password='1234qwer!@#$QWER',\n",
    "                     check_for_async=False)\n",
    "\n",
    "print(reddit.user.me())\n",
    "\n",
    "subreddit = reddit.subreddit('politics')\n",
    "threads = subreddit.hot(limit=100)\n",
    "\n",
    "t = TweetTokenizer()\n",
    "\n",
    "def sentiment_check(comment):\n",
    "    sid = SentimentIntensityAnalyzer()\n",
    "    polarities = sid.polarity_scores(comment)\n",
    "    if polarities['neg'] > polarities['pos']:\n",
    "        return 'negative'\n",
    "    elif polarities['neg'] < polarities['pos']:\n",
    "        return 'positive'\n",
    "    else:\n",
    "        return None"
   ]
  },
  {
   "cell_type": "code",
   "execution_count": 2,
   "metadata": {},
   "outputs": [
    {
     "name": "stdout",
     "output_type": "stream",
     "text": [
      "/r/Politics now has user-selectable flair representing Indigenous Nations.\n",
      "Accused Russian agent who lobbied lawmakers only donated to one politician: Tulsi Gabbard\n",
      "Tulsi Gabbard labeled a \"Russian asset\" for pushing U.S. biolabs in Ukraine claim\n",
      "A reminder from Joe: The man in the red hat ransomed Ukrainian safety for a 'favor'\n",
      "Tulsi Gabbard demands Romney resign after calling her a \"treasonous liar\"\n",
      "Scott, Rubio vote against bill to fund federal government and provide aid to Ukraine\n",
      "Leaked Kremlin Memo to Russian Media: It Is “Essential” to Feature Tucker Carlson\n",
      "Ukraine dents 'America First' thinking deep in the heart of Trump country\n",
      "Critics accuse CPAC of becoming pay-to-play as Trump loyalists gain power\n",
      "‘It’s a scare tactic’: Pamela Moses, the Black woman jailed over voting error, speaks out\n",
      "Leaked Kremlin Memo Told Russian Media To Feature Lots Of Tucker Carlson: Report\n",
      "Mitt Romney accuses Tulsi Gabbard of ‘treasonous lies’ that ‘may cost lives’ over Russia’s Ukraine invasion\n",
      "Democrats Want Investigation Into Postal Service’s Gas Guzzlers Contract: A plan to purchase up to 165,000 gasoline-powered mail trucks instead of electric models has angered Democrats and the Biden administration.\n",
      "Anti-CRT laws want to ban texts about systemic racism. What about the US constitution?\n",
      "QAnon, Ukraine and 'biolabs': Russian propaganda efforts boosted by U.S. far right\n",
      "Ginni Thomas, Wife Of Clarence Thomas, Says She Attended Jan. 6 'Stop The Steal' Rally\n",
      "Analysis: Whatever the campaigns say, the Texas electric grid isn’t fixed yet\n",
      "States Want to Ban Abortions Beyond Their Borders. Here’s What Pro-Choice States Can Do.\n",
      "Manchin Opposes Fueling US Electric Vehicle Revolution Because... the 1970s Oil Crisis\n",
      "How Russia is using Tucker Carlson in its propaganda\n",
      "Zelenskyy to deliver virtual address to US Congress\n",
      "Romney Slams Gabbard for 'Parroting Russian Propaganda,' 'Treasonous Lies'\n",
      "Democratic Group Says Trump Is Breaking Campaign Law by Not Declaring for 2024\n",
      "Accused Russian Agent Gave to One Politician: Tulsi Gabbard - Russian-American national Elena Branson was indicted this week for lobbying for pro-Kremlin policies while not registered as a foreign agent. She gave to one U.S. politician.\n",
      "North Carolina Paper Rips Madison Cawthorn After He Attacks Ukraine Leader\n",
      "Sixty-five businesses sign ad in newspaper calling on Texas governor to abandon anti-LGBTQ+ initiatives\n",
      "California governor to Florida Disney employees: \"the door is open\"\n",
      "Anti-Trump Republicans lining up for 2024 shadow primary\n",
      "Mitt Romney Condemns Tulsi Gabbard’s ‘Treasonous Lies’ on Ukraine\n",
      "Ginni Thomas, wife of Supreme Court justice, says she attended Jan. 6 ‘Stop-the-Steal’ rally before Capitol attack\n",
      "Mitt Romney Says Tulsi Gabbard Is Spreading Russian Propaganda\n",
      "Trump floats expanded presidential powers during rally speech, saying he would make every executive branch employee 'fireable' by POTUS.\n",
      "Trump 2.0: Ron DeSantis is the future of the Republican Party\n",
      "Not charging Trump will \"destroy\" legitimacy of US institutions: Kirschner\n",
      "Michigan Republican Robert Regan's Comments on Rape Aren't Surprising\n",
      "Could clean energy replace Russian oil? | Fossil fuel interests are calling for more domestic drilling to supplant Russia’s fossil fuels. But climate advocates say there’s a better alternative: Speeding the renewable energy transition.\n",
      "‘Gutted’: What happened when a Georgia elections office was targeted for takeover by those who claim the 2020 election was a fraud\n",
      "Candace Owens boosted by Russian Embassy after tweeting \"Russian lives matter\"\n",
      "Rogue county officials spark fear of growing 'insider' threats to elections\n",
      "Why gas prices are soaring when the US barely uses Russian oil\n",
      "If Only There Were an Infrastructure Bill to Deal With This Oil Crisis - By pouring money into fossil fuel infrastructure, the bipartisan law is already showing its tragic inadequacies.\n",
      "With Vote To Legalize On The Horizon, Recreational Marijuana Approval Remains High, Poll Finds\n",
      "How An Uptick In Censures Among Local Republicans Signals A Growing Radicalism\n",
      "New clues emerge about the money that might have helped fund the Jan. 6 attack. \"Ever since Watergate, one of the central adages in ... congressional investigations of presidential wrongdoing has been 'follow the money,' \" said Norm Eisen, a former House lawyer in Trump's first impeachment case.\n",
      "Millions of dollars poured into a ‘dark money’ group tied to billionaire-backed super PAC and efforts to expose voter rolls\n",
      "Ginni Thomas Admits She Attended Jan. 6 Rally — Before It Got ‘Cold’ And She Left Early\n",
      "Russian Oligarch Charged With Making Illegal Political Contributions\n",
      "Roger Stone Has Been Playing All Sides of the Gaetz Scandal\n",
      "How the American Rescue Plan saved the public sector–and proved that investing in workers pays off\n",
      "DeSantis targets Black-held congressional seats. And his own party.\n",
      "Russian Misinformation Is “A Military Assault” on the West\n",
      "It's time for the Greene-Boebert show to end\n",
      "Ammon Bundy, far-right activist and Idaho gubernatorial candidate, arrested for trespassing\n",
      "The Oil Crisis Is Making Fossil Fuel Executives Cocky and Vengeful\n",
      "Trump calls on supporters to 'lay down their very lives' to defend US against Critical Race Theory\n",
      "Proposal would reduce risk of getting fired for off-the-job marijuana use\n",
      "She Resigned Over Links to an Alleged Sex Trafficker. Now She’s Running for Congress.\n",
      "Putin's Failure in Ukraine Could Fuel Russia Election Interference\n",
      "House Democrats urge Biden to restart spending bill negotiations and prioritize climate change\n",
      "Zelenskyy to deliver virtual address to US Congress\n",
      "GOP balances condemnation of Putin, allegiance to Trump\n",
      "Liz Cheney backs GOP colleague who called Trump a \"would-be tyrant\"\n",
      "'His act is wearing thin': North Carolina Republicans gripe about Madison Cawthorn\n",
      "Harris supports war crimes investigation of Russian bombing of Ukrainian hospital\n",
      "Manchin won’t support Raskin for the Federal Reserve, potentially dooming her nomination.\n",
      "Dr. Oz supported health insurance mandates and promoted Obamacare before Senate run\n",
      "Students are doing what Congress won't to address gun violence\n",
      "Israel’s far right, shunned by AIPAC, is embraced by Mike Pence\n",
      "Georgia has one of the highest maternal mortality rates in the nation. Here's how the government spending plan can help\n",
      "The GOP Is Actually Running on Raising Taxes on the Poor and Destroying Medicare and Social Security | For the majority of Americans who are so poor they barely have to pay income taxes, Scott's plan is just the latest in a 40-year barrage of assaults and insults coming from the GOP.\n",
      "QAnon, Ukraine and 'biolabs': Russian propaganda efforts boosted by U.S. far right\n",
      "Manchin comes out against Biden Fed nominee Raskin, throwing her confirmation into doubt\n",
      "Manchin to oppose Biden Fed pick over climate stances\n",
      "Wisconsin lawsuit accuses 3 GOP congressmen of insurrection\n",
      "More than 60% of Americans oppose “Don’t Say Gay” laws. But Republicans love them.\n",
      "Russia asked China for weapons and economic aid, US officials say | Washington warns Beijing will ‘absolutely’ face consequences if it helps Moscow evade sanctions\n",
      "Ukraine War: Latvian MP Juris Jurašs 'joins legion of foreign fighters in Ukraine'\n",
      "The $2 Million Question: What Did the D.C. Trucker Convoy Donations Buy?\n",
      "Judge Temporarily Halts Texas From Probing Gender-Affirming Care For Minors As ‘Child Abuse’\n",
      "Opinion: Could Putin lose? Here’s why the ‘End of History’ author is optimistic.\n",
      "U.S. Republican senators say they will not support new Iran nuclear deal\n",
      "Liz Cheney turns to Democrats to save her hide\n",
      "Stop saying what we won't do in Ukraine: Rep. Kinzinger's advice for the U.S.\n",
      "Biden's CIA head leads the charge against Putin's information war\n",
      "Bipartisan lawmakers ramp up calls on Biden to give Ukraine weapons, fighter jets\n",
      "Fed's coming interest rate hikes may present another economic challenge for Democrats\n",
      "Majority of Americans Against Laws That Ban LGBTQ Lessons in Class: Poll\n",
      "Pitts: Conservatives about to lose the 21st century\n",
      "'Bring back measles.' Kansas legislators debate slew of COVID-inspired attacks on public health laws\n",
      "Military commanders asking Biden to station commandos in Somalia: report\n",
      "The Long History of the U.S. Immigration Crisis: How Washington Outsources Its Dirty Work\n"
     ]
    },
    {
     "name": "stdout",
     "output_type": "stream",
     "text": [
      "‘Gutted’: What happened when a Georgia elections office was targeted for takeover by those who claim the 2020 election was a fraud\n",
      "Democrats' chances in the 2022 midterm elections are better than doomsayers predict\n",
      "Pentagon push to send more trainers to Ukraine was scrapped in December amid White House fears of provoking Russia\n",
      "Russia's wild theories about secret bio-labs and 'crisis actors' in Ukraine are crafted to appeal to US conspiracists, experts say\n",
      "Ex-US ambassador to Ukraine: Trump 'emboldened' Putin\n",
      "SC councilman wears Confederate flag shirt to Black and Hispanic youth event\n",
      "House Democrats to Biden: Use climate action to restart negotiations on a spending bill\n",
      "POLITICO Playbook: Something unusual is happening between Biden and Congress\n",
      "Congressional stock ban hearing delayed after Rep. Zoe Lofgren gets COVID-19\n"
     ]
    }
   ],
   "source": [
    "all_words = []\n",
    "negative_comments = 0\n",
    "fancy_comments = 0\n",
    "negative_fancy = 0\n",
    "total_comments = 0\n",
    "stop_words = stopwords.words('english')\n",
    "lemmatizer = WordNetLemmatizer()\n",
    "\n",
    "for submission in threads:\n",
    "    print(submission.title)\n",
    "    sub_list = []\n",
    "    all_temp = []\n",
    "    for top_comment in submission.comments:\n",
    "        all_temp_temp = []\n",
    "        if not isinstance(top_comment, MoreComments):\n",
    "            total_comments += 1\n",
    "            temp = t.tokenize(top_comment.body)\n",
    "            for word in temp:\n",
    "                lemma = lemmatizer.lemmatize(word.lower())\n",
    "                if word not in stop_words and word.isalpha():\n",
    "                    all_temp_temp.append(lemma)\n",
    "            positive = 0\n",
    "            negative = 0\n",
    "            for reply in top_comment.replies:\n",
    "                if not isinstance(reply, MoreComments):\n",
    "                    sentiment = sentiment_check(reply.body)\n",
    "                    if sentiment == \"positive\":\n",
    "                        positive += 1\n",
    "                    if sentiment == \"negative\":\n",
    "                        negative += 1\n",
    "                    if sentiment == None:\n",
    "                        pass\n",
    "                else:\n",
    "                    continue\n",
    "            if negative > positive:\n",
    "                comment_polarity = 0\n",
    "                negative_comments += 1\n",
    "            else:\n",
    "                comment_polarity = 1\n",
    "        else:\n",
    "            continue\n",
    "        temp_counter = Counter(all_temp_temp)\n",
    "        if len(temp_counter) != 0:\n",
    "            comment_score = sum(temp_counter.values())/len(temp_counter)\n",
    "#             lengths = 0\n",
    "#             for key in temp_counter.keys():\n",
    "#                 lengths += len(key)\n",
    "#             comment_score = lengths/len(temp_counter)\n",
    "            all_temp.append([positive, negative, comment_score, Counter(all_temp_temp)])\n",
    "    temp_sum = 0\n",
    "    for comment_stat in all_temp:\n",
    "        temp_sum += comment_stat[2]\n",
    "    if len(all_temp) != 0:\n",
    "        submission_score = temp_sum/len(all_temp)\n",
    "    else:\n",
    "        submission_score = 0\n",
    "    all_words.append([submission_score, all_temp])"
   ]
  },
  {
   "cell_type": "code",
   "execution_count": 3,
   "metadata": {},
   "outputs": [
    {
     "name": "stdout",
     "output_type": "stream",
     "text": [
      "Negative comments make up  9.873817034700316  percent of total comments.\n",
      "Negative comments make up  48.35680751173709  percent of high-level comments.\n"
     ]
    }
   ],
   "source": [
    "graph_out = []\n",
    "for submission in all_words: #submission = [submission_score, [[p, n, c_s, [comment 1 words]] [p, n, c_s, [comment 2 words]],...]\n",
    "        for top_comment in submission[1]:\n",
    "            total_comments += 1\n",
    "            if top_comment[1] > top_comment[0]: #if most comments are negative, increment negative\n",
    "                negative_comments += 1\n",
    "                if top_comment[2] > submission[0]: #if it's negative and fancy, increment both fancy and negative fancy\n",
    "                    negative_fancy += 1\n",
    "                    fancy_comments += 1\n",
    "            if top_comment[1] < top_comment[0] and top_comment[2] > submission[0]: #if positive and fancy, increment fancy\n",
    "                fancy_comments += 1\n",
    "            try:\n",
    "                graph_out.append([top_comment[2], top_comment[1]/(top_comment[0] + top_comment[1])]) #plot x=comment score, y = negativity\n",
    "            except ZeroDivisionError:\n",
    "                pass\n",
    "print(\"Negative comments make up \", 100 * negative_comments / total_comments, \" percent of total comments.\")\n",
    "print(\"Negative comments make up \", 100 * negative_fancy / fancy_comments, \" percent of high-level comments.\")"
   ]
  },
  {
   "cell_type": "code",
   "execution_count": 4,
   "metadata": {
    "scrolled": true
   },
   "outputs": [
    {
     "name": "stdout",
     "output_type": "stream",
     "text": [
      "6340\n",
      "626\n",
      "213\n",
      "103\n"
     ]
    }
   ],
   "source": [
    "print(total_comments)\n",
    "print(negative_comments)\n",
    "print(fancy_comments)\n",
    "print(negative_fancy)"
   ]
  },
  {
   "cell_type": "markdown",
   "metadata": {},
   "source": [
    "Comments with high repetition made up 20% of comments with mostly negative responses, despite being only 2% of total responses"
   ]
  },
  {
   "cell_type": "code",
   "execution_count": 5,
   "metadata": {
    "scrolled": true
   },
   "outputs": [
    {
     "data": {
      "text/plain": [
       "0.03359621451104101"
      ]
     },
     "execution_count": 5,
     "metadata": {},
     "output_type": "execute_result"
    }
   ],
   "source": [
    "fancy_comments/total_comments"
   ]
  },
  {
   "cell_type": "code",
   "execution_count": 6,
   "metadata": {
    "scrolled": true
   },
   "outputs": [
    {
     "data": {
      "text/plain": [
       "LinregressResult(slope=-0.08845572217225232, intercept=0.6071551486100618, rvalue=-0.0229801847018625, pvalue=0.5526492054172144, stderr=0.14889135523893285)"
      ]
     },
     "execution_count": 6,
     "metadata": {},
     "output_type": "execute_result"
    }
   ],
   "source": [
    "from scipy.stats import linregress\n",
    "\n",
    "linregress(graph_out)"
   ]
  },
  {
   "cell_type": "code",
   "execution_count": 7,
   "metadata": {},
   "outputs": [],
   "source": [
    "import numpy as np\n",
    "x = np.linspace(0, 10, 10)\n",
    "line = lambda x: -0.07112 * x + 0.583305\n",
    "y = line(x)"
   ]
  },
  {
   "cell_type": "code",
   "execution_count": 8,
   "metadata": {},
   "outputs": [
    {
     "data": {
      "image/png": "[encoded data removed]",
      "text/plain": [
       "<Figure size 432x288 with 1 Axes>"
      ]
     },
     "metadata": {
      "needs_background": "light"
     },
     "output_type": "display_data"
    }
   ],
   "source": [
    "from matplotlib import pyplot as plt\n",
    "for i in graph_out:\n",
    "    plt.scatter(i[0],i[1])\n",
    "plt.xlabel(\"Rato of Unique to Total Words\")\n",
    "plt.ylabel(\"Percent of Negative Comments\")\n",
    "plt.show()"
   ]
  },
  {
   "cell_type": "code",
   "execution_count": 7,
   "metadata": {},
   "outputs": [
    {
     "name": "stdout",
     "output_type": "stream",
     "text": [
      "[('trump', 65), ('i', 57), ('would', 39), ('thank', 34), ('putin', 30), ('god', 25), ('biden', 24), ('ukraine', 23), ('president', 19), ('russia', 17)] \n",
      "\n",
      "[('i', 57), ('florida', 35), ('election', 34), ('people', 22), ('police', 20), ('desantis', 18), ('state', 18), ('voter', 15), ('the', 14), ('republican', 14)] \n",
      "\n",
      "[('ukraine', 41), ('republican', 28), ('i', 26), ('gop', 26), ('putin', 18), ('russia', 16), ('the', 16), ('they', 16), ('like', 15), ('party', 12)] \n",
      "\n",
      "[('trump', 125), ('putin', 117), ('i', 78), ('people', 34), ('would', 34), ('he', 31), ('like', 27), ('say', 26), ('president', 24), ('hannity', 22)] \n",
      "\n",
      "[('i', 34), ('time', 16), ('trump', 15), ('the', 14), ('like', 13), ('see', 12), ('get', 12), ('believe', 12), ('charge', 10), ('fall', 10)] \n",
      "\n",
      "[('i', 40), ('trump', 24), ('misinformation', 14), ('people', 11), ('youtube', 10), ('would', 9), ('go', 9), ('speech', 8), ('want', 8), ('video', 8)] \n",
      "\n",
      "[('disney', 31), ('pause', 20), ('i', 19), ('donation', 19), ('florida', 15), ('support', 13), ('people', 12), ('employee', 10), ('political', 9), ('stop', 9)] \n",
      "\n",
      "[('people', 13), ('the', 10), ('dhs', 8), ('i', 7), ('government', 7), ('they', 7), ('a', 6), ('time', 6), ('this', 6), ('office', 5)] \n",
      "\n",
      "[('i', 4), ('delay', 4), ('subreddit', 3), ('r', 3), ('politics', 3), ('rule', 3), ('please', 3), ('trump', 3), ('judge', 3), ('tactic', 3)] \n",
      "\n",
      "[('i', 27), ('right', 26), ('the', 21), ('russian', 20), ('republican', 13), ('russia', 11), ('like', 11), ('lab', 11), ('putin', 10), ('it', 10)] \n",
      "\n",
      "[('gop', 5), ('the', 5), ('i', 4), ('subreddit', 3), ('r', 3), ('politics', 3), ('people', 3), ('if', 3), ('please', 3), ('this', 3)] \n",
      "\n",
      "[('people', 11), ('i', 11), ('we', 10), ('republican', 10), ('back', 9), ('right', 8), ('the', 7), ('want', 6), ('american', 6), ('war', 6)] \n",
      "\n",
      "[('i', 41), ('loan', 29), ('debt', 17), ('student', 14), ('people', 11), ('still', 11), ('make', 10), ('future', 10), ('year', 9), ('degree', 9)] \n",
      "\n",
      "[('i', 70), ('feel', 60), ('guilty', 56), ('history', 51), ('people', 44), ('make', 31), ('snowflake', 29), ('florida', 29), ('feeling', 26), ('school', 21)] \n",
      "\n",
      "[('i', 14), ('russia', 10), ('would', 9), ('ukraine', 7), ('people', 5), ('country', 5), ('kind', 5), ('military', 5), ('r', 4), ('get', 4)] \n",
      "\n",
      "[('law', 20), ('i', 14), ('he', 11), ('time', 9), ('rule', 8), ('license', 8), ('make', 7), ('guy', 6), ('think', 6), ('driving', 6)] \n",
      "\n",
      "[('i', 20), ('people', 14), ('trump', 14), ('late', 11), ('she', 10), ('book', 9), ('fuck', 8), ('the', 8), ('would', 8), ('say', 8)] \n",
      "\n",
      "[('war', 29), ('culture', 22), ('the', 18), ('i', 16), ('gop', 15), ('republican', 15), ('democrat', 14), ('people', 13), ('and', 12), ('it', 10)] \n",
      "\n",
      "[('i', 9), ('sue', 8), ('trump', 8), ('get', 5), ('if', 4), ('please', 4), ('appeal', 4), ('way', 4), ('suing', 4), ('case', 4)] \n",
      "\n",
      "[('i', 12), ('party', 8), ('if', 6), ('gop', 5), ('guy', 5), ('politics', 4), ('people', 4), ('he', 4), ('enough', 4), ('evil', 4)] \n",
      "\n",
      "[('people', 32), ('i', 29), ('emergency', 29), ('love', 17), ('snowflake', 14), ('like', 14), ('if', 10), ('would', 10), ('fuck', 9), ('let', 9)] \n",
      "\n",
      "[('i', 13), ('florida', 13), ('rubio', 11), ('bill', 10), ('ukraine', 9), ('russian', 7), ('aid', 7), ('shit', 6), ('need', 6), ('vote', 6)] \n",
      "\n",
      "[('i', 25), ('idaho', 14), ('state', 13), ('get', 8), ('would', 8), ('like', 8), ('people', 7), ('republican', 7), ('going', 7), ('need', 7)] \n",
      "\n",
      "[('i', 13), ('people', 4), ('it', 4), ('going', 4), ('subreddit', 3), ('r', 3), ('politics', 3), ('see', 3), ('please', 3), ('time', 3)] \n",
      "\n",
      "[('r', 4), ('a', 3), ('subreddit', 3), ('politics', 3), ('please', 3), ('i', 3), ('solution', 3), ('voter', 3), ('vote', 3), ('in', 2)] \n",
      "\n",
      "[('money', 11), ('russia', 10), ('committee', 7), ('r', 6), ('jan', 5), ('question', 4), ('i', 4), ('the', 4), ('russian', 4), ('funding', 4)] \n",
      "\n",
      "[('i', 8), ('ukraine', 6), ('senator', 5), ('voted', 5), ('mitt', 5), ('republican', 5), ('politics', 4), ('mike', 4), ('north', 4), ('romney', 4)] \n",
      "\n",
      "[('make', 6), ('i', 4), ('stock', 4), ('congress', 4), ('ukraine', 4), ('stinger', 4), ('javelin', 4), ('subreddit', 3), ('r', 3), ('politics', 3)] \n",
      "\n",
      "[('i', 61), ('he', 47), ('cawthorn', 32), ('like', 25), ('madison', 24), ('know', 22), ('zelensky', 22), ('guy', 21), ('putin', 21), ('republican', 20)] \n",
      "\n",
      "[('i', 40), ('oil', 36), ('price', 30), ('company', 26), ('tax', 25), ('would', 23), ('democrat', 20), ('gas', 19), ('money', 18), ('energy', 17)] \n",
      "\n",
      "[('i', 54), ('woman', 37), ('bill', 29), ('pregnancy', 28), ('ectopic', 27), ('the', 25), ('would', 20), ('people', 19), ('make', 18), ('law', 17)] \n",
      "\n",
      "[('texas', 10), ('like', 6), ('i', 4), ('subreddit', 3), ('r', 3), ('politics', 3), ('people', 3), ('please', 3), ('russia', 3), ('donating', 3)] \n",
      "\n",
      "[('state', 12), ('primary', 12), ('i', 11), ('first', 8), ('caucus', 7), ('iowa', 6), ('like', 5), ('good', 5), ('get', 5), ('time', 5)] \n",
      "\n",
      "[('trump', 12), ('i', 10), ('putin', 10), ('hannity', 6), ('make', 5), ('evil', 5), ('if', 4), ('think', 4), ('sean', 4), ('anyone', 4)] \n",
      "\n",
      "[('congress', 5), ('i', 4), ('time', 4), ('bad', 4), ('week', 4), ('he', 4), ('subreddit', 3), ('r', 3), ('politics', 3), ('please', 3)] \n",
      "\n",
      "[('price', 9), ('i', 5), ('politics', 4), ('inflation', 4), ('subreddit', 3), ('r', 3), ('please', 3), ('we', 3), ('consumer', 3), ('gouging', 3)] \n",
      "\n",
      "[('gig', 11), ('company', 6), ('r', 5), ('i', 5), ('worker', 5), ('work', 4), ('labor', 4), ('subreddit', 3), ('politics', 3), ('please', 3)] \n",
      "\n",
      "[('texas', 12), ('child', 10), ('care', 9), ('state', 8), ('the', 7), ('facility', 6), ('refuge', 5), ('trafficking', 5), ('people', 4), ('please', 4)] \n",
      "\n",
      "[('weed', 5), ('people', 4), ('republican', 4), ('dc', 4), ('subreddit', 3), ('r', 3), ('politics', 3), ('if', 3), ('please', 3), ('i', 3)] \n",
      "\n",
      "[('i', 37), ('tulsi', 31), ('russian', 28), ('gabbard', 20), ('agent', 14), ('donation', 14), ('like', 13), ('hillary', 12), ('politician', 11), ('asset', 11)] \n",
      "\n",
      "[('i', 27), ('people', 9), ('bill', 9), ('florida', 8), ('groomer', 8), ('want', 7), ('like', 6), ('gay', 6), ('think', 6), ('get', 6)] \n",
      "\n",
      "[('trump', 8), ('i', 7), ('subreddit', 4), ('say', 4), ('r', 3), ('politics', 3), ('if', 3), ('please', 3), ('want', 3), ('who', 3)] \n",
      "\n",
      "[('weapon', 5), ('sanction', 5), ('what', 4), ('red', 4), ('line', 4), ('would', 4), ('subreddit', 3), ('r', 3), ('politics', 3), ('people', 3)] \n",
      "\n",
      "[('i', 66), ('trump', 39), ('charged', 26), ('see', 24), ('get', 24), ('believe', 21), ('he', 18), ('year', 15), ('time', 14), ('like', 13)] \n",
      "\n",
      "[('party', 6), ('get', 4), ('subreddit', 3), ('r', 3), ('politics', 3), ('people', 3), ('please', 3), ('i', 3), ('dem', 3), ('republican', 3)] \n",
      "\n",
      "[('i', 24), ('republican', 16), ('ravnsborg', 15), ('guy', 15), ('people', 12), ('this', 11), ('like', 10), ('democrat', 9), ('car', 9), ('ag', 9)] \n",
      "\n",
      "[('people', 5), ('the', 4), ('subreddit', 3), ('r', 3), ('politics', 3), ('please', 3), ('want', 3), ('i', 3), ('wrong', 3), ('one', 3)] \n",
      "\n",
      "[('trump', 10), ('i', 8), ('jet', 8), ('people', 6), ('if', 5), ('the', 5), ('money', 5), ('a', 4), ('new', 4), ('want', 4)] \n",
      "\n",
      "[('subreddit', 3), ('r', 3), ('politics', 3), ('please', 3), ('rule', 2), ('violation', 2), ('if', 2), ('question', 2), ('outlet', 2), ('moderator', 2)] \n",
      "\n",
      "[('oil', 37), ('i', 32), ('price', 29), ('tax', 28), ('gas', 27), ('republican', 16), ('company', 15), ('would', 14), ('pas', 14), ('big', 13)] \n",
      "\n",
      "[('shit', 6), ('like', 5), ('propaganda', 5), ('news', 5), ('u', 5), ('i', 4), ('theory', 4), ('subreddit', 3), ('r', 3), ('politics', 3)] \n",
      "\n",
      "[('law', 12), ('apple', 10), ('tim', 8), ('make', 4), ('concern', 4), ('teacher', 4), ('subreddit', 3), ('r', 3), ('politics', 3), ('if', 3)] \n",
      "\n",
      "[('i', 40), ('he', 37), ('putin', 31), ('the', 23), ('gop', 23), ('like', 20), ('russian', 19), ('source', 17), ('guy', 17), ('cawthorn', 17)] \n",
      "\n",
      "[('disney', 8), ('subreddit', 3), ('r', 3), ('politics', 3), ('hate', 3), ('if', 3), ('please', 3), ('want', 3), ('make', 3), ('i', 3)] \n",
      "\n",
      "[('bill', 9), ('gay', 8), ('i', 7), ('republican', 7), ('people', 6), ('would', 6), ('politics', 5), ('want', 5), ('school', 5), ('kid', 5)] \n",
      "\n",
      "[('putin', 51), ('problem', 48), ('right', 31), ('they', 25), ('trump', 17), ('russia', 16), ('like', 16), ('i', 14), ('people', 13), ('america', 13)] \n",
      "\n",
      "[('if', 6), ('people', 5), ('i', 5), ('subreddit', 3), ('r', 3), ('politics', 3), ('please', 3), ('question', 3), ('like', 3), ('rule', 2)] \n",
      "\n",
      "[('politics', 4), ('subreddit', 3), ('r', 3), ('please', 3), ('rule', 2), ('violation', 2), ('if', 2), ('question', 2), ('outlet', 2), ('moderator', 2)] \n",
      "\n",
      "[('politics', 5), ('people', 5), ('county', 5), ('republican', 5), ('r', 4), ('question', 4), ('local', 4), ('subreddit', 3), ('rule', 3), ('please', 3)] \n",
      "\n",
      "[('police', 87), ('military', 27), ('u', 26), ('i', 24), ('equipment', 24), ('gear', 23), ('ukraine', 20), ('good', 19), ('defund', 17), ('department', 17)] \n",
      "\n",
      "[('i', 5), ('ukraine', 5), ('the', 4), ('spending', 4), ('government', 4), ('subreddit', 3), ('r', 3), ('politics', 3), ('please', 3), ('help', 3)] \n",
      "\n",
      "[('price', 64), ('oil', 60), ('gas', 30), ('company', 29), ('i', 21), ('big', 21), ('profit', 21), ('get', 14), ('like', 14), ('people', 13)] \n",
      "\n",
      "[('subreddit', 3), ('r', 3), ('politics', 3), ('please', 3), ('rule', 2), ('violation', 2), ('if', 2), ('question', 2), ('outlet', 2), ('moderator', 2)] \n",
      "\n",
      "[('republican', 4), ('subreddit', 3), ('r', 3), ('politics', 3), ('please', 3), ('rule', 2), ('violation', 2), ('if', 2), ('question', 2), ('outlet', 2)] \n",
      "\n",
      "[('trump', 13), ('i', 7), ('candidate', 5), ('shit', 5), ('politics', 4), ('new', 4), ('gop', 4), ('subreddit', 3), ('r', 3), ('people', 3)] \n",
      "\n",
      "[('he', 25), ('i', 24), ('cawthorn', 23), ('like', 18), ('madison', 16), ('russian', 15), ('shit', 13), ('russia', 13), ('thug', 13), ('guy', 12)] \n",
      "\n",
      "[('russia', 7), ('trade', 6), ('u', 5), ('please', 4), ('s', 4), ('it', 4), ('subreddit', 3), ('r', 3), ('politics', 3), ('in', 3)] \n",
      "\n",
      "[('disney', 4), ('subreddit', 3), ('r', 3), ('politics', 3), ('please', 3), ('fuck', 3), ('people', 2), ('hate', 2), ('support', 2), ('rule', 2)] \n",
      "\n",
      "[('texas', 8), ('child', 7), ('state', 7), ('american', 7), ('government', 6), ('family', 6), ('want', 5), ('i', 5), ('parent', 5), ('say', 5)] \n",
      "\n",
      "[('i', 13), ('contract', 6), ('like', 4), ('country', 4), ('subreddit', 3), ('r', 3), ('politics', 3), ('people', 3), ('if', 3), ('please', 3)] \n",
      "\n",
      "[('i', 54), ('russian', 34), ('guy', 33), ('like', 33), ('this', 28), ('cawthorn', 22), ('he', 21), ('people', 19), ('say', 19), ('the', 18)] \n",
      "\n",
      "[('trump', 15), ('i', 12), ('people', 8), ('putin', 8), ('said', 7), ('georgia', 6), ('ukraine', 4), ('evil', 4), ('subreddit', 3), ('r', 3)] \n",
      "\n",
      "[('oil', 4), ('gas', 4), ('lie', 4), ('subreddit', 3), ('r', 3), ('politics', 3), ('if', 3), ('please', 3), ('discus', 2), ('attack', 2)] \n",
      "\n",
      "[('r', 6), ('propaganda', 6), ('get', 5), ('i', 4), ('subreddit', 3), ('politics', 3), ('people', 3), ('please', 3), ('make', 3), ('a', 2)] \n",
      "\n",
      "[('a', 4), ('subreddit', 3), ('r', 3), ('politics', 3), ('please', 3), ('rule', 2), ('violation', 2), ('if', 2), ('question', 2), ('outlet', 2)] \n",
      "\n",
      "[('texas', 4), ('subreddit', 3), ('r', 3), ('politics', 3), ('people', 3), ('please', 3), ('i', 3), ('a', 2), ('attack', 2), ('death', 2)] \n",
      "\n",
      "[('r', 4), ('vote', 4), ('education', 4), ('subreddit', 3), ('politics', 3), ('rule', 3), ('please', 3), ('make', 3), ('a', 2), ('people', 2)] \n",
      "\n",
      "[('please', 4), ('russia', 4), ('get', 4), ('subreddit', 3), ('r', 3), ('politics', 3), ('rule', 3), ('g', 3), ('a', 2), ('in', 2)] \n",
      "\n",
      "[('i', 10), ('people', 8), ('going', 6), ('price', 6), ('russia', 5), ('we', 5), ('would', 4), ('use', 4), ('subreddit', 3), ('r', 3)] \n",
      "\n",
      "[('subreddit', 3), ('r', 3), ('politics', 3), ('please', 3), ('rule', 2), ('violation', 2), ('if', 2), ('question', 2), ('outlet', 2), ('moderator', 2)] \n",
      "\n"
     ]
    },
    {
     "name": "stdout",
     "output_type": "stream",
     "text": [
      "[('case', 23), ('garland', 23), ('law', 23), ('rule', 22), ('i', 19), ('so', 19), ('could', 19), ('sensitive', 17), ('u', 17), ('ag', 17)] \n",
      "\n",
      "[('plane', 27), ('buy', 19), ('trump', 13), ('one', 11), ('get', 10), ('money', 10), ('want', 9), ('i', 9), ('and', 9), ('televangelist', 9)] \n",
      "\n",
      "[('vote', 32), ('i', 26), ('texas', 23), ('ballot', 23), ('republican', 16), ('election', 15), ('mail', 15), ('if', 14), ('the', 12), ('people', 11)] \n",
      "\n",
      "[('nra', 24), ('i', 20), ('russian', 13), ('russia', 12), ('member', 8), ('know', 8), ('the', 8), ('money', 8), ('like', 7), ('trump', 7)] \n",
      "\n",
      "[('subreddit', 3), ('r', 3), ('politics', 3), ('please', 3), ('rule', 2), ('violation', 2), ('if', 2), ('question', 2), ('outlet', 2), ('moderator', 2)] \n",
      "\n",
      "[('please', 4), ('subreddit', 3), ('r', 3), ('politics', 3), ('a', 2), ('in', 2), ('rule', 2), ('violation', 2), ('result', 2), ('if', 2)] \n",
      "\n",
      "[('i', 18), ('modem', 11), ('list', 5), ('get', 5), ('service', 4), ('subreddit', 3), ('r', 3), ('politics', 3), ('support', 3), ('if', 3)] \n",
      "\n",
      "[('i', 88), ('oil', 52), ('ukraine', 50), ('price', 43), ('gas', 43), ('people', 36), ('pay', 34), ('american', 30), ('willing', 29), ('company', 28)] \n",
      "\n",
      "[('pregnancy', 6), ('woman', 5), ('ectopic', 5), ('if', 4), ('performed', 4), ('the', 4), ('abortion', 4), ('subreddit', 3), ('r', 3), ('politics', 3)] \n",
      "\n",
      "[('i', 34), ('trump', 31), ('knew', 26), ('law', 21), ('the', 21), ('it', 18), ('people', 17), ('illegal', 17), ('unlawful', 16), ('nothing', 16)] \n",
      "\n",
      "[('i', 11), ('want', 5), ('the', 5), ('people', 4), ('legislation', 4), ('like', 4), ('bridge', 4), ('republican', 4), ('subreddit', 3), ('r', 3)] \n",
      "\n",
      "[('r', 6), ('subreddit', 3), ('politics', 3), ('please', 3), ('gov', 3), ('a', 2), ('in', 2), ('rule', 2), ('violation', 2), ('if', 2)] \n",
      "\n",
      "[('know', 5), ('communist', 4), ('subreddit', 3), ('r', 3), ('politics', 3), ('please', 3), ('i', 3), ('they', 3), ('rule', 2), ('violation', 2)] \n",
      "\n",
      "[('severe', 6), ('i', 5), ('war', 4), ('shut', 4), ('subreddit', 3), ('r', 3), ('politics', 3), ('please', 3), ('question', 3), ('better', 3)] \n",
      "\n",
      "[('i', 7), ('the', 7), ('people', 5), ('u', 5), ('r', 4), ('politics', 4), ('question', 4), ('nelk', 4), ('boy', 4), ('youtube', 4)] \n",
      "\n",
      "[('state', 14), ('missouri', 9), ('abortion', 7), ('legal', 7), ('i', 6), ('if', 5), ('law', 5), ('anyone', 5), ('in', 4), ('people', 4)] \n",
      "\n",
      "[('i', 6), ('the', 5), ('general', 4), ('if', 4), ('surgeon', 4), ('facebook', 4), ('subreddit', 3), ('r', 3), ('politics', 3), ('people', 3)] \n",
      "\n",
      "[('iowa', 5), ('subreddit', 3), ('r', 3), ('politics', 3), ('if', 3), ('please', 3), ('new', 3), ('i', 3), ('fuck', 3), ('people', 2)] \n",
      "\n",
      "[('subreddit', 3), ('r', 3), ('politics', 3), ('people', 3), ('please', 3), ('support', 2), ('rule', 2), ('violation', 2), ('if', 2), ('question', 2)] \n",
      "\n",
      "[('trump', 22), ('plane', 19), ('i', 18), ('money', 16), ('like', 12), ('one', 11), ('force', 9), ('new', 8), ('the', 7), ('if', 6)] \n",
      "\n"
     ]
    },
    {
     "data": {
      "text/plain": [
       "[('i', 1624),\n",
       " ('people', 696),\n",
       " ('trump', 554),\n",
       " ('the', 552),\n",
       " ('like', 548),\n",
       " ('would', 420),\n",
       " ('get', 396),\n",
       " ('if', 393),\n",
       " ('make', 383),\n",
       " ('putin', 383),\n",
       " ('republican', 364),\n",
       " ('r', 360),\n",
       " ('please', 356),\n",
       " ('politics', 338),\n",
       " ('this', 326),\n",
       " ('want', 320),\n",
       " ('subreddit', 305),\n",
       " ('it', 304),\n",
       " ('he', 299),\n",
       " ('see', 293)]"
      ]
     },
     "execution_count": 7,
     "metadata": {},
     "output_type": "execute_result"
    }
   ],
   "source": [
    "all_temp = Counter()\n",
    "for submission in all_words:\n",
    "    submission_temp = Counter()\n",
    "    for top_comment in submission[1]:\n",
    "        submission_temp = submission_temp + top_comment[3]\n",
    "    print(submission_temp.most_common(10), \"\\n\")\n",
    "    all_temp = all_temp + submission_temp\n",
    "all_temp.most_common(20)"
   ]
  },
  {
   "cell_type": "code",
   "execution_count": 9,
   "metadata": {},
   "outputs": [
    {
     "data": {
      "text/plain": [
       "[('unconfirmed', 1),\n",
       " ('grifts', 1),\n",
       " ('billioniare', 1),\n",
       " ('coach', 1),\n",
       " ('uploads', 1),\n",
       " ('unscheduled', 1),\n",
       " ('carnival', 1),\n",
       " ('baboon', 1),\n",
       " ('marmalade', 1),\n",
       " ('jabba', 1),\n",
       " ('controller', 1),\n",
       " ('imitate', 1),\n",
       " ('felonious', 1),\n",
       " ('prisoner', 1),\n",
       " ('float', 1),\n",
       " ('doghouse', 1),\n",
       " ('snoopy', 1),\n",
       " ('runnning', 1),\n",
       " ('reasoning', 1),\n",
       " ('recurring', 1),\n",
       " ('monthly', 1),\n",
       " ('conning', 1),\n",
       " ('steak', 1),\n",
       " ('memorabilia', 1),\n",
       " ('discerning', 1),\n",
       " ('lemon', 1),\n",
       " ('cooper', 1),\n",
       " ('db', 1),\n",
       " ('finalized', 1),\n",
       " ('preacher', 1)]"
      ]
     },
     "execution_count": 9,
     "metadata": {},
     "output_type": "execute_result"
    }
   ],
   "source": [
    "all_temp.most_common()[:-30-1:-1]\n",
    "# weird_words = []\n",
    "# for submission_words in all_words:\n",
    "#     weird_words.append([submission_words.most_common()[:-10-1:-1]])"
   ]
  },
  {
   "cell_type": "code",
   "execution_count": 12,
   "metadata": {},
   "outputs": [
    {
     "name": "stdout",
     "output_type": "stream",
     "text": [
      "['if']\n",
      "['If']\n"
     ]
    }
   ],
   "source": [
    "print(t.tokenize('if'))\n",
    "print(t.tokenize('If'))"
   ]
  },
  {
   "cell_type": "code",
   "execution_count": 15,
   "metadata": {},
   "outputs": [],
   "source": [
    "positive_words = Counter()\n",
    "negative_words = Counter()\n",
    "for submission in all_words:\n",
    "    for top_comment in submission[1]:\n",
    "        if top_comment[0] > top_comment[1]:\n",
    "            positive_words = positive_words + top_comment[3]\n",
    "        if top_comment[0] < top_comment[1]:\n",
    "            negative_words = negative_words + top_comment[3]\n",
    "uniquely_positive = [word for word in positive_words if word not in negative_words]\n",
    "uniquely_negative = [word for word in negative_words if word not in positive_words]"
   ]
  },
  {
   "cell_type": "code",
   "execution_count": 16,
   "metadata": {},
   "outputs": [
    {
     "name": "stdout",
     "output_type": "stream",
     "text": [
      "['learned', 'tenure', 'felt', 'proved', 'correct', 'planned', 'british', 'queue', 'snaking', 'polling', 'catastrophic', 'personally', 'ensured', 'stacey', 'abrams', 'da', 'hero', 'shown', 'concept', 'appreciation', 'agree', 'overall', 'direction', 'shitting', 'tasteless', 'yep', 'lincoln', 'eisenhower', 'daily', 'researching', 'border', 'developed', 'install', 'marxism', 'insanely', 'reader', 'dropped', 'mask', 'gushing', 'any', 'leading', 'figured', 'prudent', 'oppression', 'brown', 'shirt', 'widespread', 'electoral', 'certain', 'de', 'santis', 'nonexistent', 'giveaway', 'interference', 'overseeing', 'between', 'nonzero', 'elderly', 'republicunt', 'welll', 'ruining', 'drowns', 'appoint', 'officer', 'repeatedly', 'begin', 'alarming', 'cuban', 'latin', 'outreach', 'rework', 'trash', 'abbot', 'impartial', 'governing', 'blurred', 'communism', 'game', 'blatantly', 'throwing', 'lightly', 'none', 'match', 'philosophy', 'regime', 'fascisti', 'exalts', 'individual', 'centralized', 'autocratic', 'headed', 'dictatorial', 'regimentation', 'forcible', 'suppression', 'forget', 'definitely', 'idk', 'excuse', 'opposite', 'conduct', 'common', 'implement', 'prove', 'identity', 'disorganized', 'discounted', 'nomination', 'nominee', 'weaken', 'lethal', 'embroiled', 'debate', 'healthcare', 'seemed', 'obscure', 'request', 'receiving', 'extortion', 'uh', 'lately', 'ruble', 'those', 'withheld', 'category', 'slimy', 'proudly', 'withholding', 'presence', 'condemning', 'strictly', 'posse', 'puppet', 'donnie', 'wussy', 'autistic', 'alpha', 'liam', 'slide', 'pigtail', 'playground', 'malevolent', 'grader', 'enormity', 'unbelievable', 'hooker', 'peeing', 'therefore', 'negative', 'interviewing', 'dunno', 'crawl', 'hole', 'disappear', 'health', 'pounding', 'drum', 'mess', 'popularity', 'contest', 'winner', 'dear', 'sweet', 'tiny', 'infant', 'lb', 'motherfucker', 'miserable', 'sincerely', 'rising', 'anxiety', 'slightly', 'optimism', 'slowly', 'song', 'wake', 'filed', 'flynn', 'manafort', 'steven', 'bannon', 'weisselberg', 'mob', 'bos', 'underling', 'committing', 'galore', 'sadly', 'indicted', 'behalf', 'smh', 'charlie', 'kick', 'football', 'fed', 'constant', 'dose', 'answer', 'dementia', 'test', 'nowadays', 'sec', 'summarizes', 'rogan', 'collective', 'pant', 'whiner', 'regulate', 'censor', 'proclamation', 'ymca', 'anthem', 'somewhat', 'prank', 'channel', 'famous', 'coke', 'trunk', 'cocacola', 'founder', 'presidential', 'caliber', 'foot', 'pole', 'celebrate', 'dumbass', 'talented', 'passion', 'decide', 'tipping', 'scenario', 'bothered', 'anyways', 'example', 'sus', 'surprisingly', 'finest', 'huffington', 'communist', 'google', 'greatly', 'internal', 'strife', 'external', 'controversy', 'surrounding', 'walt', 'ceo', 'chapek', 'announced', 'friday', 'restructuring', 'framework', 'unionizing', 'anyway', 'jaguar', 'ate', 'skeptical', 'motivation', 'damn', 'promised', 'continuing', 'measure', 'abundant', 'powder', 'keg', 'warrior', 'overran', 'sitting', 'ream', 'imminent', 'alarm', 'bell', 'defenseless', 'submit', 'dna', 'reexplain', 'bought', 'funneled', 'throuh', 'pac', 'genocidal', 'monster', 'justify', 'traitorous', 'appease', 'begrudgingly', 'mistake', 'kamala', 'confused', 'contradictory', 'messaging', 'rant', 'advocate', 'idolize', 'totalitarian', 'mass', 'wtf', 'hypocrisy', 'exact', 'aristotle', 'predisposed', 'victoria', 'nuland', 'testimony', 'realize', 'helped', 'arrange', 'grew', 'shifty', 'snake', 'salesman', 'closet', 'desire', 'rewind', 'dark', 'failure', 'antiquated', 'adapt', 'fossilized', 'again', 'punt', 'backwards', 'resisting', 'box', 'disobedience', 'bleak', 'present', 'scratch', 'pslf', 'comprises', 'servant', 'portion', 'workforce', 'qualify', 'employed', 'tribal', 'agency', 'have', 'direct', 'consolidate', 'repay', 'repayment', 'qualifying', 'payment', 'very', 'title', 'identified', 'eligible', 'applied', 'forgiveness', 'sweeping', 'benefit', 'footstep', 'shackled', 'unbreakable', 'chain', 'possible', 'upper', 'poverty', 'impeach', 'consecutive', 'effect', 'exclusively', 'cancellation', 'specific', 'standardize', 'bankruptcy', 'cleared', 'simple', 'proceed', 'suddenly', 'bottle', 'cap', 'ready', 'waiver', 'october', 'aren', 'rock', 't', 'empowered', 'science', 'grind', 'halt', 'scared', 'basic', 'math', 'itt', 'favoured', 'status', 'affect', 'pariah', 'scientific', 'diplomatic', 'declare', 'reversing', 'nationalization', 'jazz', 'jump', 'wanting', 'restaurant', 'reopen', 'serve', 'hurting', 'steady', 'wish', 'network', 'sudden', 'conman', 'complains', 'immigration', 'posing', 'focus', 'stopping', 'athlete', 'keeping', 'michelle', 'library', 'starting', 'drowning', 'flailing', 'afloat', 'liability', 'certifiable', 'leopard', 'flu', 'trux', 'klanners', 'phone', 'patriot', 'chanted', 'aww', 'gots', 'choke', 'recipe', 'ambulance', 'sociopathic', 'tribalism', 'redneck', 'dick', 'lord', 'brother', 'liar', 'commuter', 'flipping', 'bird', 'electing', 'fucker', 'omnibus', 'tied', 'spewing', 'creating', 'robbing', 'worker', 'both', 'separate', 'cheap', 'trick', 'protects', 'constitution', 'tattoo', 'cigarette', 'drink', 'alcohol', 'contract', 'bruce', 'skaug', 'organ', 'based', 'puberty', 'genitals', 'pain', 'section', 'littered', 'shitholes', 'transphobes', 'suicide', 'interpreting', 'buffet', 'pick', 'ali', 'alexander', 'council', 'funded', 'token', 'cnp', 'robert', 'mercer', 'koch', 'other', 'funders', 'devos', 'dupont', 'coors', 'ect', 'birch', 'strange', 'christian', 'rolling', 'partnership', 'depopulation', 'maga', 'qanon', 'infowars', 'echo', 'outgrowth', 'fdr', 'ama', 'largely', 'disagreed', 'cabinet', 'invest', 'derived', 'wondering', 'raytheon', 'lockheed', 'unit', 'raytheons', 'mainly', 'sonar', 'supplier', 'worshiper', 'narcissism', 'masquerading', 'perception', 'powerful', 'xyz', 'alyssa', 'farah', 'griffin', 'served', 'director', 'strategic', 'tweeted', 'criticize', 'intern', 'disgraceful', 'echoing', 'escaped', 'heroic', 'unlinked', 'username', 'credited', 'linked', 'douchery', 'link', 'im', 'wouldnt', 'outshine', 'unfortunately', 'backlash', 'nov', 'rapist', 'warmonger', 'saint', 'realise', 'discus', 'nuanced', 'civilised', 'manner', 'strap', 'plate', 'carrier', 'flat', 'zaddy', 'actor', 'alaska', 'size', 'dependency', 'alot', 'sister', 'egg', 'surgical', 'gtfo', 'asinine', 'progress', 'shooting', 'hunger', 'circle', 'numbered', 'selling', 'android', 'nor', 'shipped', 'brainer', 'dog', 'battleground', 'michigan', 'counting', 'credible', 'candidate', 'market', 'ranked', 'choice', 'nyc', 'primary', 'demonizing', 'usual', 'homework', 'sean', 'intentional', 'bar', 'major', 'labor', 'statistic', 'index', 'cpi', 'commodity', 'hiked', 'collectively', 'increasing', 'disagree', 'cotillion', 'practical', 'perspective', 'distinguish', 'independent', 'contractor', 'apps', 'unfair', 'skill', 'forced', 'plant', 'emma', 'goldman', 'tuker', 'glen', 'gleenwald', 'ebay', 'carter', 'unlimited', 'bribery', 'fishy', 'spends', 'hanging', 'hillary', 'commenting', 'elena', 'branson', 'contributed', 'february', 'june', 'actblue', 'earmarked', 'york', 'additionally', 'allege', 'communicated', 'lobby', 'hawaiian', 'fort', 'elizabeth', 'worthy', 'tasked', 'currying', 'gabbarb', 'her', 'totaled', 'horseshoe', 'generally', 'multimillionaire', 'disappointment', 'imply', 'appears', 'establishment', 'shaved', 'supportive', 'carefully', 'm', 'christina', 'pushaw', 'regard', 'code', 'suspect', 'virtual', 'correspondence', 'potus', 'cia', 'sb', 'sri', 'parole', 'continues', 'flap', 'gum', 'forever', 'adulthood', 'gaslight', 'trauma', 'ruin', 'af', 'bisexual', 'learn', 'ivanka', 'jarred', 'lakeside', 'village', 'retirement', 'greatest', 'fabulously', 'magnificent', 'codger', 'warehoused', 'palm', 'beach', 'clock', 'nursing', 'unruly', 'patient', 'unfit', 'shake', 'divide', 'jinping', 'special', 'cleaning', 'stating', 'cornholed', 'cell', 'variation', 'theme', 'cynical', 'rare', 'fade', 'wishful', 'overt', 'process', 'kirschner', 'concludes', 'stretch', 'depends', 'belong', 'your', 'kootenai', 'correction', 'kyrsten', 'enema', 'polical', 'murdered', 'crashed', 'bidenitis', 'funny', 'aim', 'relief', 'domestically', 'imported', 'exempts', 'production', 'deter', 'multinational', 'producer', 'quarterly', 'rebate', 'phasing', 'filer', 'earning', 'annually', 'joint', 'project', 'delivering', 'industry', 'sugar', 'daddy', 'causing', 'spike', 'simultaneously', 'drilling', 'futility', 'elitist', 'begun', 'churning', 'clarify', 'endorse', 'elevate', 'fast', 'buyer', 'strategy', 'mineral', 'leased', 'fubar', 'assessed', 'varied', 'wellhead', 'pumping', 'taxed', 'client', 'royality', 'nightmare', 'stipulation', 'attaining', 'owner', 'sucked', 'donkey', 'vital', 'capitalistic', 'competetors', 'profitable', 'incentive', 'drill', 'reduces', 'lower', 'grasping', 'straw', 'finance', 'stem', 'cook', 'lesbian', 'classified', 'briefing', 'involving', 'dime', 'operation', 'sovereign', 'handle', 'surprising', 'vacation', 'jam', 'only', 'till', 'rocking', 'z', 'merch', 'hint', 'alex', 'woodward', 'donated', 'silly', 'orientation', 'authoritarianism', 'altemeyer', 'eager', 'assures', 'alike', 'hardcore', 'bull', 'shot', 'scream', 'confidence', 'locked', 'guard', 'soviet', 'managed', 'unite', 'rid', 'fueling', 'demilitarize', 'replace', 'unused', 'storage', 'neighboring', 'expired', 'armor', 'functionable', 'ammunition', 'switched', 'munition', 'kneepads', 'glove', 'camelbacks', 'fyi', 'somewhere', 'upwards', 'ironic', 'fabricated', 'noice', 'defended', 'nypd', 'dystopian', 'heavily', 'equipped', 'pd', 'forest', 'suited', 'warfare', 'militarization', 'easy', 'earth', 'filling', 'shuttering', 'rider', 'defacto', 'synthetic', 'nicotine', 'imma', 'lmfao', 'efficient', 'marginal', 'sen', 'bernie', 'sander', 'unprecedented', 'create', 'hilarious', 'fully', 'electric', 'economics', 'accounting', 'margin', 'explodes', 'launch', 'con', 'wa', 'kingmaker', 'dependent', 'vying', 'endorsement', 'particularly', 'hesitant', 'picked', 'endorsed', 'chosen', 'loyalty', 'fealty', 'elect', 'scum', 'regardless', 'deflect', 'demented', 'justified', 'civilian', 'endure', 'punished', 'unconditional', 'strike', 'dissuade', 'moving', 'hostile', 'flip', 'busted', 'speeding', 'previously', 'attend', 'auto', 'prior', 'bomb', 'holocaust', 'worthless', 'hears', 'investigated', 'broken', 'toy', 'aw', 'muffin', 'psychotic', 'technique', 'wild', 'blocked', 'letting', 'mantra', 'churchill', 'park', 'rec', 'emptily', 'stared', 'corner', 'guessing', 'wheel', 'invariably', 'screwing', 'disillusioned', 'stupidity', 'stealing', 'vouch', 'orbit', 'boggling', 'oof', 'doozy', 'nevertheless', 'caucasus', 'fought', 'killer', 'intends', 'condemnation', 'storm', 'empathy', 'valued', 'typical', 'obligation', 'isolated', 'functioning', 'technology', 'pursue', 'prosecuting', 'painfully', 'activity', 'espionage', 'document', 'cared', 'signaling', 'remotely', 'each', 'granted', 'prosecutorial', 'virtue', 'confirmation', 'delegation', 'flagpole', 'approval', 'layer', 'protection', 'olc', 'influence', 'appointee', 'deputy', 'grand', 'jury', 'chat', 'counsel', 'barr', 'declined', 'inspector', 'referral', 'reminder', 'deliberately', 'influencing', 'podium', 'announcing', 'fixated', 'informed', 'intuition', 'preparation', 'den', 'powerless', 'prosecute', 'nut', 'excited', 'la', 'vega', 'lake', 'tahoe', 'refinance', 'airline', 'dwindled', 'relied', 'guvmint', 'welfare', 'suffering', 'painful', 'shocked', 'king', 'yelled', 'loudly', 'requires', 'doesnt', 'amerikan', 'miltary', 'succeed', 'mexico', 'responder', 'veteran', 'freakin', 'meh', 'fudds', 'wayne', 'lapierre', 'strung', 'thumb', 'deported', 'parliament', 'poisoned', 'litvenko', 'bump', 'management', 'contribution', 'spy', 'lobbyist', 'maria', 'bunita', 'fiddle', 'sleep', 'movie', 'cambridge', 'analytica', 'player', 'angle', 'somebody', 'stronger', 'ie', 'broke', 'difficulty', 'boat', 'positive', 'til', 'inconvenienced', 'spin', 'inflating', 'rely', 'surveyed', 'financially', 'devastate', 'household', 'worrying', 'barron', 'analysis', 'upset', 'dealt', 'escalator', 'tolerable', 'survey', 'riot', 'assemble', 'argue', 'gore', 'strict', 'hyperbole', 'generate', 'landslide', 'overturn', 'dubious', 'procedural', 'loser', 'brightest', 'episode', 'opening', 'dissection', 'panel', 'eastman', 'privilege', 'pense', 'atty', 'reference', 'realizing', 'valid', 'pinky', 'unarmed', 'exchange', 'kompromat', 'ilk', 'poster', 'modern', 'whomever', 'promise', 'megalomaniacal', 'narcist', 'bus', 'miscalculation', 'fat', 'pigeon', 'plucked', 'smallest', 'decency', 'emerged', 'cruel', 'hungry', 'psychopath', 'mouthed', 'buffoon', 'conniving', 'stabber', 'civics', 'ethical', 'abiding', 'besiege', 'chump', 'incriminating', 'idiocy', 'catastrophically', 'cabal', 'useless', 'duck', 'iphone', 'scroll', 'bridge', 'deny', 'confrontation', 'strive', 'victory', 'syria', 'wagging', 'finger', 'youtubers', 'provocative', 'peppered', 'launched', 'subscriber', 'appearance', 'ignited', 'demonetized', 'encouraged', 'distancing', 'lockdown', 'kyle', 'forgeard', 'briefly', 'april', 'impersonating', 'mall', 'shining', 'model', 'washed', 'sun', 'random', 'overdue', 'unrepresentative', 'initial', 'stab', 'selecting', 'bombarded', 'nimby', 'building', 'brand', 'construction', 'wrap', 'unveil', 'odd', 'texting', 'piggy', 'paw', 'monies', 'design', 'finalized', 'memorabilia', 'surely', 'irs'] \n",
      "\n",
      "\n",
      "['extorted', 'second', 'sanctioned', 'backed', 'wwii', 'speaking', 'german', 'ignoring', 'defeated', 'nazi', 'meaning', 'germany', 'steamroll', 'pre', 'involvement', 'nuke', 'lead', 'gutted', 'cyber', 'sigh', 'exhausted', 'hostage', 'narcissist', 'sociopath', 'controlling', 'destiny', 'brink', 'annihilation', 'commits', 'monetary', 'fresh', 'air', 'utterly', 'regular', 'diplomat', 'effective', 'navigating', 'gullible', 'honestly', 'atrocity', 'substantive', 'international', 'gobble', 'meanwhile', 'woulda', 'such', 'reporter', 'china', 'eye', 'hong', 'kong', 'taiwan', 'nk', 'iran', 'feeding', 'frenzy', 'expected', 'unimpressive', 'mussolini', 'demonstrate', 'weak', 'unpopular', 'admitting', 'forcing', 'unsurprising', 'horrifying', 'explode', 'legislative', 'goal', 'marginalized', 'burn', 'queer', 'protected', 'beyond', 'pale', 'swfl', 'ne', 'leave', 'leaning', 'eagerness', 'discriminate', 'crony', 'flaw', 'throughout', 'punching', 'facists', 'transparency', 'monitoring', 'ensuring', 'describe', 'fundamental', 'realized', 'sniffed', 'wind', 'flow', 'overseas', 'anybody', 'shitty', 'seizing', 'tired', 'reductionist', 'clickbait', 'hunter', 'laptop', 'dealing', 'viktor', 'shokin', 'burisma', 'fired', 'threatening', 'withhold', 'branch', 'fabricate', 'form', 'collusion', 'tremendous', 'sweep', 'rug', 'treat', 'nutty', 'damming', 'providing', 'open', 'declaration', 'nfz', 'lawlessness', 'sometimes', 'rehabilitate', 'image', 'demanded', 'infrastructure', 'closest', 'impeachment', 'trial', 'witness', 'ffs', 'moderate', 'led', 'romney', 'kindergartner', 'listened', 'invading', 'deploying', 'soldier', 'guise', 'exercise', 'attacked', 'risked', 'stuck', 'cash', 'itsjaybruv', 'filibustering', 'o', 'b', 'replied', 'disgraced', 'j', 'beautiful', 'virginia', 'fell', 'affair', 'jong', 'indirectly', 'nicer', 'success', 'mafia', 'head', 'gangster', 'liked', 'viewed', 'assumes', 'happiness', 'kept', 'pressing', 'positing', 'repeated', 'maxim', 'closer', 'vladimir', 'iranian', 'mullah', 'perhaps', 'christ', 'given', 'dumbest', 'sentience', 'brutal', 'uhhhh', 'bro', 'cruelty', 'responded', 'blaming', 'refer', 'typo', 'tape', 'ill', 'ran', 'became', 'cult', 'tbh', 'tower', 'secured', 'visiting', 'hotel', 'anytime', 'soon', 'collapsed', 'currency', 'beholden', 'absorb', 'leverage', 'improve', 'relation', 'opportunity', 'void', 'seeing', 'venezuela', 'forming', 'condem', 'solid', 'ball', 'graham', 'camera', 'outlier', 'gg', 'exhausting', 'named', 'prosecuted', 'michael', 'cohen', 'highlight', 'unfairly', 'treated', 'justice', 'harassed', 'intimidated', 'pleading', 'guilty', 'fuzzy', 'roger', 'gulliani', 'cool', 'dump', 'shaken', 'sick', 'forcibly', 'roust', 'protester', 'lafayette', 'square', 'scowl', 'bible', 'enforcing', 'creator', 'agrees', 'dissemination', 'feature', 'fraudlent', 'boring', 'legally', 'emboldens', 'heat', 'resume', 'same', 'insurrection', 'dy', 'silently', 'moment', 'c', 'petty', 'star', 'trailer', 'sacrifice', 'dignity', 'entertainment', 'eli', 'repubs', 'written', 'ed', 'hetrosexual', 'desired', 'inanimate', 'object', 'quiet', 'ending', 'organized', 'outrage', 'stain', 'overthrow', 'dhs', 'paramilitary', 'serf', 'function', 'terrorize', 'immigrant', 'tactic', 'shocking', 'prominent', 'fantasy', 'blog', 'unsc', 'fundamentally', 'undermines', 'amplifying', 'swallowed', 'propagandick', 'deeply', 'throat', 'clip', 'quarter', 'assuredly', 'guzzles', 'sustainable', 'rounded', 'placed', 'camp', 'embraced', 'mobile', 'bio', 'factory', 'iraq', 'biolabs', 'dod', 'purely', 'defensive', 'purpose', 'didn', 'owns', 'setting', 'swallowing', 'amazed', 'losing', 'leftist', 'subreddit', 'rioted', 'missouri', 'ken', 'cooked', 'enron', 'johnson', 'douche', 'slavery', 'tearing', 'statue', 'hide', 'hiring', 'graduate', 'visa', 'bucket', 'apprehensive', 'ussue', 'pilot', 'wash', 'mortgage', 'mine', 'dammit', 'youth', 'snowflake', 'snowflaked', 'congratulation', 'safe', 'becsuse', 'indentity', 'slave', 'holder', 'slaver', 'south', 'benefitted', 'unjust', 'disparaged', 'guilt', 'attitude', 'reactive', 'me', 'recognizing', 'injustice', 'inadvertently', 'inherently', 'provoke', 'identify', 'wrongdoer', 'abolitionist', 'under', 'discrimination', 'broadened', 'uncomfortable', 'historic', 'nationality', 'gender', 'apply', 'overboard', 'ethnicity', 'introducing', 'backfire', 'florda', 'capital', 'snow', 'flake', 'amazing', 'pressuring', 'colonist', 'killed', 'pox', 'dictatorship', 'prestigious', 'academic', 'institution', 'accomplishing', 'otherwise', 'legit', 'wet', 'noodle', 'crimea', 'saved', 'coward', 'zelenaky', 'horrible', 'manager', 'walmart', 'modified', 'vehicle', 'drive', 'duo', 'bike', 'wheelchair', 'release', 'reaction', 'engage', 'rethink', 'wave', 'coordinated', 'sexism', 'homophobia', 'transphobia', 'hill', 'dumpster', 'parking', 'four', 'landscaping', 'centre', 'appeal', 'suing', 'appealing', 'sue', 'objection', 'equate', 'bat', 'interfering', 'felony', 'awhile', 'denying', 'hindering', 'access', 'numbskulls', 'bogus', 'convoy', 'disbanded', 'share', 'everybody', 'dunked', 'zoom', 'scott', 'governor', 'bug', 'bunny', 'having', 'driven', 'insanity', 'alabama', 'northwest', 'styled', 'nonvoters', 'dictate', 'chinese', 'awful', 'sounding', 'advance', 'senate', 'hb', 'hormone', 'doctor', 'permit', 'winder', 'discussed', 'drumbeat', 'odds', 'advancing', 'harm', 'abuser', 'slope', 'alert', 'underage', 'smoker', 'beer', 'drinker', 'accuse', 'worried', 'pedophile', 'plummeting', 'volume', 'adjacent', 'clarence', 'thomas', 'marsha', 'blackburn', 'tennessee', 'boozman', 'arkansas', 'braun', 'indiana', 'richard', 'burr', 'carolina', 'cassidy', 'louisiana', 'tom', 'cotton', 'kevin', 'cramer', 'dakota', 'crapo', 'ted', 'daines', 'montana', 'deb', 'fischer', 'nebraska', 'hagerty', 'josh', 'hawley', 'hoeven', 'kennedy', 'james', 'lankford', 'lee', 'utah', 'cynthia', 'lummis', 'wyoming', 'marshall', 'kansa', 'kentucky', 'jim', 'risch', 'mitt', 'marco', 'ben', 'sasse', 'rick', 'dan', 'sullivan', 'thom', 'tillis', 'pat', 'toomey', 'pennsylvania', 'liz', 'cheney', 'adam', 'kinzinger', 'impeaching', 'mandated', 'provided', 'acquit', 'divisive', 'foundation', 'floor', 'today', 'sell', 'forbidden', 'owning', 'blind', 'period', 'afterwards', 'lend', 'fail', 'tin', 'foil', 'manufacturer', 'afghanistan', 'defending', 'casino', 'nc', 'seditionist', 'embarrassing', 'damned', 'stooge', 'mother', 'marrying', 'sleeper', 'consensus', 'exxonmobil', 'exempt', 'reasonable', 'vehemently', 'nationalize', 'redistribution', 'component', 'adjust', 'truck', 'nauseating', 'calculation', 'risk', 'passing', 'beef', 'cheeseburger', 'wage', 'handout', 'increased', 'ubi', 'tech', 'data', 'automated', 'pounder', 'ectopic', 'pregnancy', 'embryo', 'viable', 'unruptured', 'medical', 'ultrasound', 'detect', 'prescribe', 'medicine', 'hence', 'nevermind', 'ignorant', 'ruptured', 'surgery', 'equating', 'miscarriage', 'manslaughter', 'burial', 'fetus', 'carried', 'repugnicans', 'suspected', 'infid', 'considers', 'damage', 'husband', 'violebtly', 'abort', 'keying', 'transfer', 'instrument', 'device', 'drug', 'inducing', 'tack', 'violated', 'transferred', 'count', 'redundant', 'catch', 'committee', 'unintended', 'criminalize', 'necessary', 'oops', 'seitz', 'insisted', 'treatment', 'trafficked', 'denies', 'clarifying', 'remains', 'premature', 'conclude', 'fallopian', 'tl', 'reduced', 'complication', 'unable', 'restrictive', 'desk', 'keri', 'ingle', 'pointed', 'provision', 'transferring', 'extended', 'summary', 'faq', 'feedback', 'monitored', 'constructive', 'keywords', 'pulling', 'vassal', 'combat', 'psychopathic', 'donating', 'pr', 'condemned', 'kidding', 'character', 'thrown', 'sunk', 'muster', 'mild', 'criticism', 'disenfranchised', 'advancement', 'toward', 'fixing', 'socially', 'divided', 'preemptive', 'filled', 'replacement', 'town', 'fuel', 'slready', 'plain', 'catalyst', 'switch', 'solar', 'ev', 'innovation', 'battery', 'powering', 'distributed', 'grid', 'neighborhood', 'dependence', 'remind', 'store', 'sixteen', 'abuse', 'unlike', 'caring', 'refuge', 'ranch', 'located', 'acre', 'bastrop', 'tex', 'austin', 'operated', 'dmst', 'describes', 'girl', 'holistic', 'charter', 'psychiatric', 'various', 'therapeutic', 'uniquely', 'designed', 'development', 'survivor', 'numerous', 'partner', 'church', 'sheriff', 'gov', 'greg', 'largest', 'rehabilitation', 'facility', 'seven', 'ranging', 'stunning', 'nine', 'reported', 'tribune', 'physically', 'suffered', 'neglectful', 'supervision', 'neglect', 'foster', 'judge', 'thursday', 'janis', 'presided', 'dfps', 'finding', 'imposing', 'ordering', 'reform', 'appointment', 'oversee', 'fined', 'failing', 'closed', 'san', 'antonio', 'commissioner', 'unsafe', 'ongoing', 'licensed', 'summer', 'approved', 'bluff', 'andy', 'useful', 'everywhere', 'especially', 'loophole', 'mentioned', 'resident', 'weed', 'mpd', 'raided', 'grow', 'ops', 'impede', 'distribution', 'disastrous', 'pothole', 'covering', 'dore', 'author', 'fallen', 'solve', 'invented', 'thicc', 'careful', 'groomers', 'inappropriately', 'urgent', 'require', 'prohibit', 'evolution', 'room', 'convinced', 'cock', 'stiff', 'observed', 'opposed', 'closeted', 'homosexual', 'apposed', 'homosexuallity', 'laying', 'anti', 'scripture', 'sire', 'tonpreach', 'openly', 'celibacy', 'eating', 'rallying', 'minute', 'turned', 'tapioca', 'reelected', 'precursor', 'reminded', 'wipe', 'mariupol', 'intervened', 'japan', 'pearl', 'harbor', 'gazing', 'confirmed', 'kiev', 'kirschener', 'definitive', 'conference', 'stated', 'flight', 'will', 'magical', 'decried', 'deep', 'wrest', 'champion', 'spineless', 'dino', 'rino', 'tend', 'resource', 'fundraising', 'some', 'coast', 'rarely', 'spirit', 'bipartisanship', 'nutshell', 'vehicular', 'homicide', 'fla', 'hyde', 'volek', 'lived', 'nearby', 'ravnsborg', 'drinking', 'locate', 'struck', 'drove', 'pierre', 'tandem', 'discovered', 'boever', 'investigator', 'scene', 'legislator', 'during', 'interrogation', 'sept', 'glass', 'inside', 'ford', 'taurus', 'windshield', 'investigation', 'questioned', 'three', 'pair', 'session', 'groaned', 'responding', 'alcool', 'consumption', 'lends', 'realizes', 'leak', 'crack', 'mentionned', 'text', 'unnamed', 'consultant', 'compelled', 'peek', 'plead', 'misdemeanor', 'death', 'wealth', 'chris', 'hahn', 'entering', 'televangelist', 'territory', 'derek', 'watchdog', 'unclear', 'repair', 'rube', 'mark', 'sucker', 'shill', 'e', 'fly', 'netjets', 'broadway', 'parading', 'princess', 'cozying', 'pro', 'repealing', 'subsidy', 'proposed', 'hopeless', 'collar', 'heck', 'sadist', 'masochist', 'dislike', 'imo', 'rightly', 'disparaging', 'inanely', 'titled', 'policing', 'broadly', 'inconsequential', 'mildly', 'annoying', 'override', 'enjoy', 'deprivation', 'depression', 'california', 'wwiii', 'looming', 'goodness', 'tweet', 'monopoly', 'oligarch', 'integrity', 'cycle', 'tv', 'expects', 'disingenuous', 'intention', 'complain', 'kindergarten', 'taught', 'role', 'confirming', 'disenfranchise', 'marriage', 'discussing', 'penalized', 'spouse', 'mentioning', 'conversation', 'advertised', 'late', 'created', 'horribly', 'ridiculously', 'our', 'elector', 'bidder', 'bidding', 'secret', 'marjorie', 'taylor', 'greene', 'worst', 'clown', 'fsb', 'randomly', 'crossfit', 'captain', 'copied', 'canada', 'score', 'hidden', 'dream', 'item', 'add', 'update', 'updated', 'resulted', 'physical', 'altercation', 'cawthore', 'aside', 'ukranian', 'associated', 'blm', 'convince', 'institutionalized', 'loving', 'brings', 'window', 'falling', 'circlejerk', 'fakeass', 'idealogies', 'applause', 'offering', 'addition', 'introduced', 'marginalizing', 'reynolds', 'participating', 'athletics', 'discriminatory', 'advanced', 'tuesday', 'textbook', 'lgbt', 'lifestyle', 'classroom', 'homosexuality', 'obscenity', 'exclusion', 'define', 'unnecessarily', 'whenever', 'club', 'curriculum', 'sentiment', 'eventually', 'formidable', 'appeared', 'paper', 'undertrained', 'badly', 'striking', 'conscript', 'claiming', 'troop', 'believed', 'welcomed', 'overcompensate', 'night', 'oopsed', 'lover', 'tyrant', 'kill', 'admired', 'praised', 'genius', 'remarkably', 'disaster', 'precisely', 'ruled', 'accepts', 'dissent', 'envisioned', 'blitzkrieg', 'overrun', 'capture', 'bombardment', 'rubble', 'insulate', 'potential', 'debacle', 'indicating', 'slump', 'infatuation', 'reflected', 'antiwokeness', 'creepy', 'fascination', 'masculinity', 'sarah', 'palin', 'wrestled', 'bear', 'barack', 'wore', 'jean', 'apparent', 'toughness', 'contrasted', 'footage', 'recruiting', 'mock', 'emasculated', 'relearning', 'weakness', 'apologist', 'sum', 'published', 'poutine', 'amazingly', 'involves', 'expenditure', 'lemme', 'dumping', 'requesting', 'citing', 'acting', 'rocket', 'launcher', 'scraping', 'obsolete', 'bullet', 'proof', 'vest', 'migs', 'wasnt', 'pm', 'tuition', 'earmark', 'pork', 'pseudo', 'populist', 'oppressing', 'radical', 'globalist', 'threatens', 'patriotic', 'warehouse', 'retailer', 'tainting', 'manufactured', 'outsourcing', 'pesky', 'scot', 'hoax', 'solely', 'underhanded', 'self', 'conveniently', 'partisan', 'minded', 'dimensional', 'shallow', 'worldview', 'rose', 'lockstep', 'lag', 'speculation', 'ceiling', 'penny', 'starve', 'bitching', 'keystone', 'pipeline', 'prefer', 'double', 'seattle', 'grotesque', 'bilking', 'yoy', 'wouldn', 'counteract', 'maintain', 'transition', 'nah', 'fault', 'sticker', 'wasn', 'yesterday', 'suspended', 'infamous', 'battle', 'charity', 'woohoo', 'concerned', 'suicidal', 'sooner', 'prof', 'troll', 'disappeared', 'compliment', 'repub', 'poppa', 'breaker', 'embarrassment', 'n', 'hitting', 'wallet', 'militarily', 'affirming', 'pediatrics', 'association', 'recommendation', 'endocrine', 'pediatric', 'psychological', 'adolescent', 'psychiatry', 'lambda', 'aclu', 'tx', 'lifeline', 'alliance', 'diversity', 'cpa', 'synopsis', 'impaired', 'holy', 'viciously', 'attacking', 'limited', 'hhs', 'issued', 'arguing', 'dysphoria', 'basis', 'disability', 'directive', 'urged', 'dept', 'classic', 'representation', 'inform', 'available', 'suggesting', 'estranged', 'strangely', 'trip', 'compromised', 'outburst', 'provides', 'indication', 'plotline', 'bond', 'film', 'vlad', 'behavior', 'erratic', 'w', 'drunk', 'spouting', 'intellect', 'core', 'bind', 'suppose', 'significantly', 'reduce', 'diversify', 'asshats', 'constituent', 'briber', 'capitalism', 'older', 'harder', 'becomes', 'roll', 'zeitgeist', 'temper', 'discomfort', 'recognize', 'importance', 'emerging', 'tiktok', 'ugh', 'suck', 'tik', 'tok', 'incompetent', 'coincidence', 'shifting', 'jeopardy', 'implementing', 'aerial', 'weaponry', 'impose', 'embargo', 'entail', 'zone', 'opioids', 'terrifying', 'pleasure', 'opioid', 'addiction', 'monstrous', 'bee', 'subpoena', 'testify', 'mueller', 'undermined', 'aircraft', 'pit', 'flying', 'fractional', 'freaking', 'jumbo', 'wasteful', 'mention', 'gold', 'plated', 'wrapped', 'plastic', 'upstate', 'airport', 'modeled', 'successful', 'colorado', 'rejection', 'flexible', 'requirement', 'utility', 'fraction', 'percent', 'fraudulent', 'cast', 'mediate', 'constitutional', 'stupidest', 'landholding', 'encompassing', 'counted', 'goddamn', 'embarassing', 'pathetic', 'ce', 'pool', 'rigging', 'rooting', 'rejected', 'commission', 'typically', 'reject', 'fewer', 'riveria', 'el', 'paso', 'assistant', 'administrator', 'handled', 'founding', 'father', 'anticipate', 'conspiring', 'taint', 'unthinkable', 'unacceptable', 'sector', 'chest', 'excess', 'primarily', 'allen', 'huffines', 'beating', 'statistically', 'yo', 'identification', 'ssn', 'hated', 'luck', 'gru', 'supposedly', 'ar', 'waltz', 'abracadabra', 'invite', 'plenty', 'candidacy', 'duma', 'terrorist', 'thats', 'proxy', 'effectively', 'insulting', 'gain', 'refusing', 'acknowledge', 'alternative', 'unashamedly', 'unabashedly', 'awesome', 'tainted', 'exxon', 'shareholder', 'ransomware', 'polled', 'destitute', 'investing', 'transportation', 'too', 'psa', 'v', 'villain', 'unaware', 'paycheck', 'tone', 'deaf', 'bearable', 'shift', 'sleeve', 'prepped', 'gee', 'hmmm', 'muh', 'peep', 'poll', 'breakdown', 'assumption', 'facilitate', 'holier', 'thou', 'caused', 'proposes', 'performed', 'induced', 'um', 'fatal', 'untreated', 'murder', 'pregnant', 'handed', 'commander', 'faithful', 'gilead', 'note', 'foul', 'succeeds', 'whooshing', 'noise', 'clang', 'mjt', 'boebert', 'childish', 'tangential', 'unlawful', 'editorial', 'soften', 'tonight', 'faith', 'religious', 'disconcerting', 'cynicism', 'reached', 'tendency', 'outside', 'impossible', 'achieve', 'strategist', 'packaged', 'collection', 'damaging', 'table', 'block', 'dana', 'cant', 'ven', 'diagram', 'donny', 'fitting', 'influencer', 'prankster', 'combination', 'countermanding', 'disqualify', 'key', 'designated', 'responsibility', 'begging', 'wall', 'joking', 'pose', 'contact', 'imbecile', 'sat', 'interviewer', 'wearing', 'hoodie', 'hat', 'indoors', 'torn', 'frame', 'cautionary', 'roe', 'overturned', 'pot', 'brothel', 'nevada', 'solved', 'marijuana', 'possession', 'warrant', 'been', 'pulled', 'immunity', 'experience', 'fcking', 'falsehood', 'yell', 'vaxxers', 'listen', 'rapidly', 'research', 'discourse', 'homemade', 'page', 'concluded', 'parental', 'fear', 'persists', 'factor', 'crossed', 'rot', 'iirc', 'selfmade', 'commie', 'avocado', 'toast', 'luxury', 'airliner', 'rinse', 'wildly', 'wholly', 'mismanaged', 'execution', 'airplane', 'lo', 'l', 'focused', 'imitate', 'confusion', 'traffic', 'controller', 'familiar', 'naming', 'grifts', 'prop', 'unconfirmed']\n"
     ]
    }
   ],
   "source": [
    "print(uniquely_positive, \"\\n\\n\")\n",
    "print(uniquely_negative)"
   ]
  },
  {
   "cell_type": "code",
   "execution_count": 17,
   "metadata": {},
   "outputs": [
    {
     "name": "stdout",
     "output_type": "stream",
     "text": [
      "2783 1212\n"
     ]
    }
   ],
   "source": [
    "print(len(positive_words), len(uniquely_positive))"
   ]
  },
  {
   "cell_type": "code",
   "execution_count": 21,
   "metadata": {},
   "outputs": [
    {
     "name": "stdout",
     "output_type": "stream",
     "text": [
      "[('people', 15), ('say', 13), ('know', 12), ('tax', 10), ('case', 9), ('without', 9), ('candidate', 9), ('political', 8), ('fall', 8), ('politician', 8), ('election', 7), ('like', 7), ('read', 7), ('think', 7), ('congress', 7), ('attorney', 7), ('they', 6), ('fucking', 6), ('week', 6), ('nation', 6), ('maybe', 6), ('absolute', 6), ('member', 6), ('oil', 6), ('billion', 6), ('work', 6), ('year', 5), ('party', 5), ('when', 5), ('fuck', 5)]\n"
     ]
    }
   ],
   "source": [
    "print((positive_words - negative_words).most_common(30))"
   ]
  },
  {
   "cell_type": "code",
   "execution_count": 22,
   "metadata": {},
   "outputs": [
    {
     "name": "stdout",
     "output_type": "stream",
     "text": [
      "[('the', 30), ('he', 30), ('if', 27), ('i', 24), ('republican', 24), ('state', 23), ('would', 21), ('it', 20), ('fact', 18), ('shit', 18), ('bill', 18), ('said', 18), ('source', 18), ('price', 18), ('ukraine', 17), ('putin', 16), ('problem', 16), ('woman', 15), ('mean', 14), ('law', 14), ('way', 13), ('car', 13), ('get', 12), ('this', 11), ('got', 11), ('another', 11), ('weapon', 11), ('texas', 11), ('ectopic', 11), ('russia', 10)]\n"
     ]
    }
   ],
   "source": [
    "print((negative_words - positive_words).most_common(30))"
   ]
  },
  {
   "cell_type": "code",
   "execution_count": null,
   "metadata": {},
   "outputs": [],
   "source": []
  }
 ],
 "metadata": {
  "kernelspec": {
   "display_name": "Python 3",
   "language": "python",
   "name": "python3"
  },
  "language_info": {
   "codemirror_mode": {
    "name": "ipython",
    "version": 3
   },
   "file_extension": ".py",
   "mimetype": "text/x-python",
   "name": "python",
   "nbconvert_exporter": "python",
   "pygments_lexer": "ipython3",
   "version": "3.8.5"
  }
 },
 "nbformat": 4,
 "nbformat_minor": 4
}
